{
  "cells": [
    {
      "attachments": {},
      "cell_type": "markdown",
      "metadata": {
        "id": "lKBNLGVxpj34"
      },
      "source": [
        "[![Open In Colab](https://colab.research.google.com/assets/colab-badge.svg)](https://colab.research.google.com/github/neuromorph/image-anything/blob/main/image_anything.ipynb)"
      ]
    },
    {
      "attachments": {},
      "cell_type": "markdown",
      "metadata": {
        "id": "6THKoXvCpj3-"
      },
      "source": [
        "**Colab to run [Image Anything](https://github.com/neuromorph/image-anything) demo**\n",
        "\n",
        "This notebook goes through setting up Image Anything demo along with its dependencies.\n",
        "\n",
        "Current Supported Tasks:  \n",
        "1. Image captioning\n",
        "2. Generate auto SAM mask\n",
        "3. Objects detection, segmentation, annotation\n",
        "4. Remove / replace background\n",
        "5. Inpainting\n",
        "6. Upscale image 4x\n",
        "7. Text to image\n",
        "\n",
        "\n",
        "Change runtime in Colab to use GPU.  \n",
        "After running the gradio_app.py in the last step of this notebook, you'll get the shareable link of gradio where you can access the demo app.  \n",
        "Upload an image, select task, provide prompts as per the task and click on Run button. Optionally, you can provide additional settings from the Advanced Options section."
      ]
    },
    {
      "cell_type": "code",
      "execution_count": null,
      "metadata": {
        "colab": {
          "base_uri": "https://localhost:8080/"
        },
        "execution": {
          "iopub.execute_input": "2023-07-02T13:22:58.959953Z",
          "iopub.status.busy": "2023-07-02T13:22:58.959589Z",
          "iopub.status.idle": "2023-07-02T13:22:59.932091Z",
          "shell.execute_reply": "2023-07-02T13:22:59.930917Z",
          "shell.execute_reply.started": "2023-07-02T13:22:58.959920Z"
        },
        "id": "tA2uIY-Rpj3_",
        "outputId": "df650257-639e-440a-c47b-d22d863cd88e",
        "trusted": true
      },
      "outputs": [],
      "source": [
        "# Check where you are\n",
        "!pwd\n",
        "!ls"
      ]
    },
    {
      "cell_type": "code",
      "execution_count": null,
      "metadata": {
        "colab": {
          "base_uri": "https://localhost:8080/"
        },
        "execution": {
          "iopub.execute_input": "2023-07-02T13:23:11.282188Z",
          "iopub.status.busy": "2023-07-02T13:23:11.281799Z",
          "iopub.status.idle": "2023-07-02T13:23:14.953300Z",
          "shell.execute_reply": "2023-07-02T13:23:14.951853Z",
          "shell.execute_reply.started": "2023-07-02T13:23:11.282154Z"
        },
        "id": "A7dYm31Bpj4B",
        "outputId": "59697a70-fec1-441b-e622-474ef9354823",
        "trusted": true
      },
      "outputs": [],
      "source": [
        "!git clone https://github.com/neuromorph/image-anything.git"
      ]
    },
    {
      "cell_type": "code",
      "execution_count": 3,
      "metadata": {
        "colab": {
          "base_uri": "https://localhost:8080/"
        },
        "execution": {
          "iopub.execute_input": "2023-07-02T13:23:21.985948Z",
          "iopub.status.busy": "2023-07-02T13:23:21.985579Z",
          "iopub.status.idle": "2023-07-02T13:23:21.996052Z",
          "shell.execute_reply": "2023-07-02T13:23:21.995059Z",
          "shell.execute_reply.started": "2023-07-02T13:23:21.985915Z"
        },
        "id": "CqfBZUGIpj4B",
        "outputId": "95cf08ab-ea00-4dcf-e472-d676cc647bd6",
        "trusted": true
      },
      "outputs": [
        {
          "name": "stdout",
          "output_type": "stream",
          "text": [
            "/content/image-anything\n"
          ]
        }
      ],
      "source": [
        "%cd ./image-anything"
      ]
    },
    {
      "cell_type": "code",
      "execution_count": 4,
      "metadata": {
        "execution": {
          "iopub.execute_input": "2023-07-02T13:23:28.340941Z",
          "iopub.status.busy": "2023-07-02T13:23:28.340237Z",
          "iopub.status.idle": "2023-07-02T13:23:30.269228Z",
          "shell.execute_reply": "2023-07-02T13:23:30.267862Z",
          "shell.execute_reply.started": "2023-07-02T13:23:28.340908Z"
        },
        "id": "zkXup4w3pj4D",
        "trusted": true
      },
      "outputs": [],
      "source": [
        "!export BUILD_WITH_CUDA=True\n",
        "!export CUDA_HOME=/usr/local/cuda"
      ]
    },
    {
      "cell_type": "code",
      "execution_count": null,
      "metadata": {
        "colab": {
          "base_uri": "https://localhost:8080/"
        },
        "execution": {
          "iopub.execute_input": "2023-07-02T13:23:34.905228Z",
          "iopub.status.busy": "2023-07-02T13:23:34.904506Z",
          "iopub.status.idle": "2023-07-02T13:23:50.804839Z",
          "shell.execute_reply": "2023-07-02T13:23:50.803430Z",
          "shell.execute_reply.started": "2023-07-02T13:23:34.905189Z"
        },
        "id": "Il1rcFjYpj4E",
        "outputId": "f87726fc-7386-4e84-ccdb-b59a7d91a160",
        "trusted": true
      },
      "outputs": [],
      "source": [
        "!python -m pip install -e segment_anything"
      ]
    },
    {
      "cell_type": "code",
      "execution_count": null,
      "metadata": {
        "colab": {
          "base_uri": "https://localhost:8080/"
        },
        "id": "uI7biGk3pj4F",
        "outputId": "81b60bd1-314d-4b74-eb99-0e232364b628"
      },
      "outputs": [],
      "source": [
        "!python -m pip install git+https://github.com/ChaoningZhang/MobileSAM.git"
      ]
    },
    {
      "cell_type": "code",
      "execution_count": null,
      "metadata": {
        "colab": {
          "base_uri": "https://localhost:8080/"
        },
        "execution": {
          "iopub.execute_input": "2023-07-02T13:26:24.444260Z",
          "iopub.status.busy": "2023-07-02T13:26:24.443852Z",
          "iopub.status.idle": "2023-07-02T13:27:56.343970Z",
          "shell.execute_reply": "2023-07-02T13:27:56.342767Z",
          "shell.execute_reply.started": "2023-07-02T13:26:24.444225Z"
        },
        "id": "z_LPa4n6pj4F",
        "outputId": "ade49d24-6668-4e6b-f697-9bde49bf2992",
        "trusted": true
      },
      "outputs": [],
      "source": [
        "!python -m pip install -e GroundingDINO"
      ]
    },
    {
      "cell_type": "code",
      "execution_count": null,
      "metadata": {
        "colab": {
          "base_uri": "https://localhost:8080/"
        },
        "execution": {
          "iopub.execute_input": "2023-07-02T13:58:46.289684Z",
          "iopub.status.busy": "2023-07-02T13:58:46.288587Z",
          "iopub.status.idle": "2023-07-02T13:59:03.258082Z",
          "shell.execute_reply": "2023-07-02T13:59:03.256836Z",
          "shell.execute_reply.started": "2023-07-02T13:58:46.289640Z"
        },
        "id": "EA73OHThpj4G",
        "outputId": "8f1e1712-76b3-40f8-bf44-2c4f3d059dbe",
        "trusted": true
      },
      "outputs": [],
      "source": [
        "%cd /content/image-anything/Matte_Anything\n",
        "!python -m pip install 'git+https://github.com/facebookresearch/detectron2.git'"
      ]
    },
    {
      "cell_type": "code",
      "execution_count": null,
      "metadata": {
        "colab": {
          "base_uri": "https://localhost:8080/"
        },
        "execution": {
          "iopub.execute_input": "2023-07-02T13:31:03.937922Z",
          "iopub.status.busy": "2023-07-02T13:31:03.937519Z",
          "iopub.status.idle": "2023-07-02T13:31:46.826842Z",
          "shell.execute_reply": "2023-07-02T13:31:46.825685Z",
          "shell.execute_reply.started": "2023-07-02T13:31:03.937871Z"
        },
        "id": "d9qADcFppj4H",
        "outputId": "43b2dab9-68ea-4046-8f37-9c3859bc4d42",
        "trusted": true
      },
      "outputs": [],
      "source": [
        "# %cd Matte_Anything\n",
        "%pip install -r requirements.txt"
      ]
    },
    {
      "cell_type": "code",
      "execution_count": null,
      "metadata": {
        "colab": {
          "base_uri": "https://localhost:8080/"
        },
        "execution": {
          "iopub.execute_input": "2023-07-02T13:35:02.458605Z",
          "iopub.status.busy": "2023-07-02T13:35:02.457667Z",
          "iopub.status.idle": "2023-07-02T13:35:14.965064Z",
          "shell.execute_reply": "2023-07-02T13:35:14.963914Z",
          "shell.execute_reply.started": "2023-07-02T13:35:02.458565Z"
        },
        "id": "Sqv9WljRpj4H",
        "outputId": "ab1de2ca-50c3-4fda-96f4-8bdf74b54061",
        "trusted": true
      },
      "outputs": [],
      "source": [
        "%cd /content/image-anything\n",
        "%pip install --upgrade diffusers[torch]"
      ]
    },
    {
      "cell_type": "code",
      "execution_count": 11,
      "metadata": {
        "colab": {
          "base_uri": "https://localhost:8080/"
        },
        "execution": {
          "iopub.execute_input": "2023-07-02T13:35:29.365657Z",
          "iopub.status.busy": "2023-07-02T13:35:29.365222Z",
          "iopub.status.idle": "2023-07-02T13:35:29.375634Z",
          "shell.execute_reply": "2023-07-02T13:35:29.374529Z",
          "shell.execute_reply.started": "2023-07-02T13:35:29.365617Z"
        },
        "id": "9wlm_BDbpj4H",
        "outputId": "ce9e85f0-e027-44d4-8770-70b7fd9e3255",
        "trusted": true
      },
      "outputs": [
        {
          "name": "stdout",
          "output_type": "stream",
          "text": [
            "/content/image-anything/checkpoints\n"
          ]
        }
      ],
      "source": [
        "import os\n",
        "os.makedirs('/content/image-anything/checkpoints', exist_ok=True)\n",
        "%cd checkpoints"
      ]
    },
    {
      "cell_type": "code",
      "execution_count": null,
      "metadata": {
        "colab": {
          "base_uri": "https://localhost:8080/"
        },
        "execution": {
          "iopub.execute_input": "2023-07-02T13:35:33.761202Z",
          "iopub.status.busy": "2023-07-02T13:35:33.760832Z",
          "iopub.status.idle": "2023-07-02T13:35:45.319148Z",
          "shell.execute_reply": "2023-07-02T13:35:45.317984Z",
          "shell.execute_reply.started": "2023-07-02T13:35:33.761172Z"
        },
        "id": "8JwiwDOApj4I",
        "outputId": "317712a8-1095-4514-87b3-a0ac4a36519b",
        "trusted": true
      },
      "outputs": [],
      "source": [
        "%pip install wget gdown"
      ]
    },
    {
      "cell_type": "code",
      "execution_count": null,
      "metadata": {
        "colab": {
          "base_uri": "https://localhost:8080/"
        },
        "execution": {
          "iopub.execute_input": "2023-07-02T13:35:50.359248Z",
          "iopub.status.busy": "2023-07-02T13:35:50.358870Z",
          "iopub.status.idle": "2023-07-02T13:36:15.861822Z",
          "shell.execute_reply": "2023-07-02T13:36:15.860713Z",
          "shell.execute_reply.started": "2023-07-02T13:35:50.359214Z"
        },
        "id": "VHjX-Jp4pj4I",
        "outputId": "10c63b2a-e530-4e89-be60-0460fbab31f2",
        "trusted": true
      },
      "outputs": [],
      "source": [
        "# Download pretrained checkpoints\n",
        "!wget https://dl.fbaipublicfiles.com/segment_anything/sam_vit_h_4b8939.pth\n",
        "!wget https://github.com/IDEA-Research/GroundingDINO/releases/download/v0.1.0-alpha/groundingdino_swint_ogc.pth\n",
        "!gdown 1d97oKuITCeWgai2Tf3iNilt6rMSSYzkW\n",
        "!wget https://raw.githubusercontent.com/ChaoningZhang/MobileSAM/master/weights/mobile_sam.pt"
      ]
    },
    {
      "cell_type": "code",
      "execution_count": 20,
      "metadata": {
        "colab": {
          "base_uri": "https://localhost:8080/"
        },
        "execution": {
          "iopub.execute_input": "2023-07-02T13:36:21.081748Z",
          "iopub.status.busy": "2023-07-02T13:36:21.081339Z",
          "iopub.status.idle": "2023-07-02T13:36:22.117271Z",
          "shell.execute_reply": "2023-07-02T13:36:22.116203Z",
          "shell.execute_reply.started": "2023-07-02T13:36:21.081712Z"
        },
        "id": "FLNC0cJ1pj4J",
        "outputId": "cd52b4af-e394-4454-f01e-adc43c5eb7c7",
        "trusted": true
      },
      "outputs": [
        {
          "name": "stdout",
          "output_type": "stream",
          "text": [
            "total 3599752\n",
            "drwxr-xr-x 2 root root       4096 Jul  3 12:27 .\n",
            "drwxr-xr-x 8 root root       4096 Jul  3 12:18 ..\n",
            "-rw-r--r-- 1 root root  693997677 Mar 21 04:50 groundingdino_swint_ogc.pth\n",
            "-rw-r--r-- 1 root root   40728226 Jul  3 12:26 mobile_sam.pt\n",
            "-rw-r--r-- 1 root root 2564550879 Apr  4 06:56 sam_vit_h_4b8939.pth\n",
            "-rw-r--r-- 1 root root  386838041 Jul  3 12:20 ViTMatte_B_DIS.pth\n"
          ]
        }
      ],
      "source": [
        "!ls -al"
      ]
    },
    {
      "cell_type": "code",
      "execution_count": 21,
      "metadata": {
        "colab": {
          "base_uri": "https://localhost:8080/"
        },
        "execution": {
          "iopub.execute_input": "2023-07-02T13:59:30.883380Z",
          "iopub.status.busy": "2023-07-02T13:59:30.882939Z",
          "iopub.status.idle": "2023-07-02T13:59:30.891568Z",
          "shell.execute_reply": "2023-07-02T13:59:30.890234Z",
          "shell.execute_reply.started": "2023-07-02T13:59:30.883336Z"
        },
        "id": "RpyIdoMBpj4M",
        "outputId": "ba284ac2-e134-4eb7-8e04-656998f24600",
        "trusted": true
      },
      "outputs": [
        {
          "name": "stdout",
          "output_type": "stream",
          "text": [
            "/content/image-anything\n"
          ]
        }
      ],
      "source": [
        "%cd /content/image-anything"
      ]
    },
    {
      "cell_type": "code",
      "execution_count": null,
      "metadata": {
        "_kg_hide-output": true,
        "execution": {
          "iopub.execute_input": "2023-07-02T10:44:08.626691Z",
          "iopub.status.busy": "2023-07-02T10:44:08.626316Z",
          "iopub.status.idle": "2023-07-02T10:57:50.528264Z",
          "shell.execute_reply": "2023-07-02T10:57:50.527066Z",
          "shell.execute_reply.started": "2023-07-02T10:44:08.626662Z"
        },
        "id": "V8LNYEtYpj4O",
        "trusted": true
      },
      "outputs": [],
      "source": [
        "!python gradio_app.py --share"
      ]
    },
    {
      "cell_type": "code",
      "execution_count": null,
      "metadata": {
        "id": "nNoDIXqTpj4R"
      },
      "outputs": [],
      "source": [
        "# from google.colab import files\n",
        "# files.upload()"
      ]
    },
    {
      "cell_type": "code",
      "execution_count": 49,
      "metadata": {
        "id": "StgjOOi3w2Bc"
      },
      "outputs": [],
      "source": [
        "# !mv 'gradio_app (1).py' gradio_app.py"
      ]
    }
  ],
  "metadata": {
    "accelerator": "GPU",
    "colab": {
      "gpuType": "T4",
      "provenance": []
    },
    "kernelspec": {
      "display_name": "Python 3",
      "name": "python3"
    },
    "language_info": {
      "codemirror_mode": {
        "name": "ipython",
        "version": 3
      },
      "file_extension": ".py",
      "mimetype": "text/x-python",
      "name": "python",
      "nbconvert_exporter": "python",
      "pygments_lexer": "ipython3",
      "version": "3.10.10"
    }
  },
  "nbformat": 4,
  "nbformat_minor": 0
}
